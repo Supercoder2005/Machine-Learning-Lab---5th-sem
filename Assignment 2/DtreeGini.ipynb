{
 "cells": [
  {
   "cell_type": "code",
   "execution_count": 5,
   "id": "7f88e113",
   "metadata": {},
   "outputs": [
    {
     "ename": "AttributeError",
     "evalue": "'OutStream' object has no attribute 'buffer'",
     "output_type": "error",
     "traceback": [
      "\u001b[1;31m---------------------------------------------------------------------------\u001b[0m",
      "\u001b[1;31mAttributeError\u001b[0m                            Traceback (most recent call last)",
      "Cell \u001b[1;32mIn[5], line 27\u001b[0m\n\u001b[0;32m     24\u001b[0m tree\u001b[38;5;241m.\u001b[39mplot_tree(dtree, feature_names\u001b[38;5;241m=\u001b[39mfeatures)\n\u001b[0;32m     26\u001b[0m \u001b[38;5;66;03m#Two  lines to make our compiler able to draw:\u001b[39;00m\n\u001b[1;32m---> 27\u001b[0m plt\u001b[38;5;241m.\u001b[39msavefig(sys\u001b[38;5;241m.\u001b[39mstdout\u001b[38;5;241m.\u001b[39mbuffer)\n\u001b[0;32m     28\u001b[0m sys\u001b[38;5;241m.\u001b[39mstdout\u001b[38;5;241m.\u001b[39mflush()\n",
      "\u001b[1;31mAttributeError\u001b[0m: 'OutStream' object has no attribute 'buffer'"
     ]
    }
   ],
   "source": [
    "import sys\n",
    "import matplotlib\n",
    "\n",
    "import pandas\n",
    "from sklearn import tree\n",
    "from sklearn.tree import DecisionTreeClassifier\n",
    "import matplotlib.pyplot as plt\n",
    "\n",
    "df = pandas.read_csv(\"F:\\Machine Learning Lab - 5th sem\\Assignment 2\\data.csv\")\n",
    "\n",
    "d = {'UK': 0, 'USA': 1, 'N': 2}\n",
    "df['Nationality'] = df['Nationality'].map(d)\n",
    "d = {'YES': 1, 'NO': 0}\n",
    "df['Go'] = df['Go'].map(d)\n",
    "\n",
    "features = ['Age', 'Experience', 'Rank', 'Nationality']\n",
    "\n",
    "X = df[features]\n",
    "y = df['Go']\n",
    "\n",
    "dtree = DecisionTreeClassifier()\n",
    "dtree = dtree.fit(X, y)\n",
    "\n",
    "tree.plot_tree(dtree, feature_names=features)\n",
    "\n",
    "#Two  lines to make our compiler able to draw:\n",
    "plt.savefig(sys.stdout.buffer)\n",
    "sys.stdout.flush()"
   ]
  },
  {
   "cell_type": "code",
   "execution_count": 6,
   "id": "5e539b28",
   "metadata": {},
   "outputs": [
    {
     "name": "stderr",
     "output_type": "stream",
     "text": [
      "C:\\Users\\OORNEE MITRA\\AppData\\Local\\Temp\\ipykernel_14636\\1626152873.py:27: UserWarning: Matplotlib is currently using agg, which is a non-GUI backend, so cannot show the figure.\n",
      "  plt.show()\n"
     ]
    }
   ],
   "source": [
    "import pandas as pd\n",
    "import matplotlib.pyplot as plt\n",
    "from sklearn import tree\n",
    "from sklearn.tree import DecisionTreeClassifier\n",
    "\n",
    "# Read CSV\n",
    "df = pd.read_csv(\"data.csv\")\n",
    "\n",
    "# Map categorical values\n",
    "d = {'UK': 0, 'USA': 1, 'N': 2}\n",
    "df['Nationality'] = df['Nationality'].map(d)\n",
    "d = {'YES': 1, 'NO': 0}\n",
    "df['Go'] = df['Go'].map(d)\n",
    "\n",
    "# Features and target\n",
    "features = ['Age', 'Experience', 'Rank', 'Nationality']\n",
    "X = df[features]\n",
    "y = df['Go']\n",
    "\n",
    "# Train Decision Tree\n",
    "dtree = DecisionTreeClassifier()\n",
    "dtree.fit(X, y)\n",
    "\n",
    "# Plot in Jupyter\n",
    "plt.figure(figsize=(10, 6))\n",
    "tree.plot_tree(dtree, feature_names=features, filled=True)\n",
    "plt.show()\n"
   ]
  }
 ],
 "metadata": {
  "kernelspec": {
   "display_name": "base",
   "language": "python",
   "name": "python3"
  },
  "language_info": {
   "codemirror_mode": {
    "name": "ipython",
    "version": 3
   },
   "file_extension": ".py",
   "mimetype": "text/x-python",
   "name": "python",
   "nbconvert_exporter": "python",
   "pygments_lexer": "ipython3",
   "version": "3.11.5"
  }
 },
 "nbformat": 4,
 "nbformat_minor": 5
}
